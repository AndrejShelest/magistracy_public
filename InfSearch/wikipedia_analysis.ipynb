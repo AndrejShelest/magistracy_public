{
 "cells": [
  {
   "cell_type": "markdown",
   "metadata": {},
   "source": [
    "## Обход Википедии\n",
    "\n",
    "Данные обхода представлены в файле формата json, прилагаемом к notebook. Также прилагаю код получения обхода (в архиве)."
   ]
  },
  {
   "cell_type": "markdown",
   "metadata": {},
   "source": [
    "## Построение графа\n",
    "\n",
    "\n",
    "Читаем из json файла данные обхода веб-графа и формируем ориентированный граф."
   ]
  },
  {
   "cell_type": "code",
   "execution_count": 1,
   "metadata": {
    "collapsed": true
   },
   "outputs": [],
   "source": [
    "import networkx as nx\n",
    "from pprint import pprint"
   ]
  },
  {
   "cell_type": "code",
   "execution_count": 2,
   "metadata": {
    "collapsed": true
   },
   "outputs": [],
   "source": [
    "import json\n",
    "\n",
    "with open(\"graph.json\") as f:\n",
    "    data = json.load(f)\n",
    "    \n",
    "edges = [(u[\"url\"], v) for u in data for v in u[\"links\"] ]\n",
    "graph = nx.DiGraph()\n",
    "graph.add_edges_from(edges)\n"
   ]
  },
  {
   "cell_type": "markdown",
   "metadata": {},
   "source": [
    "### Некоторые характеристики графа:"
   ]
  },
  {
   "cell_type": "code",
   "execution_count": 3,
   "metadata": {},
   "outputs": [
    {
     "name": "stdout",
     "output_type": "stream",
     "text": [
      "647753 вершин и 2079691 ребер\n",
      "плотность графа: 4.95656284169e-06\n"
     ]
    }
   ],
   "source": [
    "print \"{} вершин и {} ребер\".format(graph.order(), graph.size())\n",
    "print \"плотность графа: {}\".format(nx.density(graph))"
   ]
  },
  {
   "cell_type": "markdown",
   "metadata": {},
   "source": [
    "Таким образом, веб-граф является разреженным."
   ]
  },
  {
   "cell_type": "markdown",
   "metadata": {},
   "source": [
    "## Вычисление PageRank для вершин графа при различных $\\alpha$:"
   ]
  },
  {
   "cell_type": "code",
   "execution_count": 4,
   "metadata": {
    "collapsed": true
   },
   "outputs": [],
   "source": [
    "import copy\n",
    "import operator\n",
    "TOP_PAGES_COUNT = 10\n",
    "alphas = [0.85, 0.95, 0.5, 0.3]\n",
    "alphas_top_pages = []\n",
    "pr_alphas = []\n",
    "\n",
    "\n",
    "def print_page_info(page, page_property):\n",
    "    print u\"{0} {1:0.8f} \\n{2} \\n{3}\".format(page[\"title\"], page[page_property], page[\"url\"], page[\"snippet\"])"
   ]
  },
  {
   "cell_type": "code",
   "execution_count": 5,
   "metadata": {},
   "outputs": [
    {
     "name": "stdout",
     "output_type": "stream",
     "text": [
      "\n",
      "\n",
      "-----alpha=0.85-----\n",
      "\n",
      "\n",
      "Empty 0.00004778 \n",
      "https://en.wikipedia.org/wiki/Geographic_coordinate_system \n",
      "Empty\n",
      "\n",
      "Empty 0.00004582 \n",
      "https://en.wikipedia.org/wiki/International_Standard_Book_Number \n",
      "Empty\n",
      "\n",
      "Empty 0.00002475 \n",
      "https://en.wikipedia.org/wiki/United_States \n",
      "Empty\n",
      "\n",
      "Empty 0.00002397 \n",
      "https://en.wikipedia.org/wiki/Virtual_International_Authority_File \n",
      "Empty\n",
      "\n",
      "Empty 0.00001927 \n",
      "https://en.wikipedia.org/wiki/Library_of_Congress_Control_Number \n",
      "Empty\n",
      "\n",
      "Empty 0.00001754 \n",
      "https://en.wikipedia.org/wiki/Wayback_Machine \n",
      "Empty\n",
      "\n",
      "Empty 0.00001645 \n",
      "https://en.wikipedia.org/wiki/Integrated_Authority_File \n",
      "Empty\n",
      "\n",
      "Empty 0.00001610 \n",
      "https://en.wikipedia.org/wiki/Digital_object_identifier \n",
      "Empty\n",
      "\n",
      "Empty 0.00001600 \n",
      "https://en.wikipedia.org/wiki/IMDb \n",
      "Empty\n",
      "\n",
      "Empty 0.00001484 \n",
      "https://en.wikipedia.org/wiki/International_Standard_Name_Identifier \n",
      "Empty\n",
      "\n",
      "\n",
      "\n",
      "-----alpha=0.95-----\n",
      "\n",
      "\n",
      "Empty 0.00005322 \n",
      "https://en.wikipedia.org/wiki/Geographic_coordinate_system \n",
      "Empty\n",
      "\n",
      "Empty 0.00005102 \n",
      "https://en.wikipedia.org/wiki/International_Standard_Book_Number \n",
      "Empty\n",
      "\n",
      "Empty 0.00002748 \n",
      "https://en.wikipedia.org/wiki/United_States \n",
      "Empty\n",
      "\n",
      "Empty 0.00002660 \n",
      "https://en.wikipedia.org/wiki/Virtual_International_Authority_File \n",
      "Empty\n",
      "\n",
      "Empty 0.00002136 \n",
      "https://en.wikipedia.org/wiki/Library_of_Congress_Control_Number \n",
      "Empty\n",
      "\n",
      "Empty 0.00001942 \n",
      "https://en.wikipedia.org/wiki/Wayback_Machine \n",
      "Empty\n",
      "\n",
      "Empty 0.00001821 \n",
      "https://en.wikipedia.org/wiki/Integrated_Authority_File \n",
      "Empty\n",
      "\n",
      "Empty 0.00001781 \n",
      "https://en.wikipedia.org/wiki/Digital_object_identifier \n",
      "Empty\n",
      "\n",
      "Empty 0.00001770 \n",
      "https://en.wikipedia.org/wiki/IMDb \n",
      "Empty\n",
      "\n",
      "Empty 0.00001640 \n",
      "https://en.wikipedia.org/wiki/International_Standard_Name_Identifier \n",
      "Empty\n",
      "\n",
      "\n",
      "\n",
      "-----alpha=0.5-----\n",
      "\n",
      "\n",
      "Empty 0.00002874 \n",
      "https://en.wikipedia.org/wiki/Geographic_coordinate_system \n",
      "Empty\n",
      "\n",
      "Empty 0.00002759 \n",
      "https://en.wikipedia.org/wiki/International_Standard_Book_Number \n",
      "Empty\n",
      "\n",
      "Empty 0.00001519 \n",
      "https://en.wikipedia.org/wiki/United_States \n",
      "Empty\n",
      "\n",
      "Empty 0.00001473 \n",
      "https://en.wikipedia.org/wiki/Virtual_International_Authority_File \n",
      "Empty\n",
      "\n",
      "Empty 0.00001197 \n",
      "https://en.wikipedia.org/wiki/Library_of_Congress_Control_Number \n",
      "Empty\n",
      "\n",
      "Empty 0.00001095 \n",
      "https://en.wikipedia.org/wiki/Wayback_Machine \n",
      "Empty\n",
      "\n",
      "Empty 0.00001031 \n",
      "https://en.wikipedia.org/wiki/Integrated_Authority_File \n",
      "Empty\n",
      "\n",
      "Empty 0.00001011 \n",
      "https://en.wikipedia.org/wiki/Digital_object_identifier \n",
      "Empty\n",
      "\n",
      "Empty 0.00001005 \n",
      "https://en.wikipedia.org/wiki/IMDb \n",
      "Empty\n",
      "\n",
      "Empty 0.00000936 \n",
      "https://en.wikipedia.org/wiki/International_Standard_Name_Identifier \n",
      "Empty\n",
      "\n",
      "\n",
      "\n",
      "-----alpha=0.3-----\n",
      "\n",
      "\n",
      "Empty 0.00001786 \n",
      "https://en.wikipedia.org/wiki/Geographic_coordinate_system \n",
      "Empty\n",
      "\n",
      "Empty 0.00001717 \n",
      "https://en.wikipedia.org/wiki/International_Standard_Book_Number \n",
      "Empty\n",
      "\n",
      "Empty 0.00000973 \n",
      "https://en.wikipedia.org/wiki/United_States \n",
      "Empty\n",
      "\n",
      "Empty 0.00000946 \n",
      "https://en.wikipedia.org/wiki/Virtual_International_Authority_File \n",
      "Empty\n",
      "\n",
      "Empty 0.00000780 \n",
      "https://en.wikipedia.org/wiki/Library_of_Congress_Control_Number \n",
      "Empty\n",
      "\n",
      "Empty 0.00000719 \n",
      "https://en.wikipedia.org/wiki/Wayback_Machine \n",
      "Empty\n",
      "\n",
      "Empty 0.00000681 \n",
      "https://en.wikipedia.org/wiki/Integrated_Authority_File \n",
      "Empty\n",
      "\n",
      "Empty 0.00000668 \n",
      "https://en.wikipedia.org/wiki/Digital_object_identifier \n",
      "Empty\n",
      "\n",
      "Empty 0.00000665 \n",
      "https://en.wikipedia.org/wiki/IMDb \n",
      "Empty\n",
      "\n",
      "Empty 0.00000624 \n",
      "https://en.wikipedia.org/wiki/International_Standard_Name_Identifier \n",
      "Empty\n",
      "\n"
     ]
    }
   ],
   "source": [
    "\n",
    "\n",
    "for alpha in alphas:\n",
    "    pr = nx.pagerank(graph, alpha=alpha)\n",
    "    \n",
    "    pr_alphas.append(pr)\n",
    "    \n",
    "    top_pages_temp = sorted(pr.items(), key=operator.itemgetter(1), reverse=True)[:TOP_PAGES_COUNT]\n",
    "    top_pages = []\n",
    "    \n",
    "    for tpt in top_pages_temp:\n",
    "        if tpt in data:\n",
    "            tpt_copy = copy.copy(tpt)\n",
    "            tpt_copy[\"page_rank\"] = pr[tpt_copy[\"url\"]]\n",
    "\n",
    "            top_pages.append(tpt_copy)\n",
    "        else:\n",
    "            tpt_new = {}\n",
    "            tpt_new[\"page_rank\"] = pr[tpt[0]]\n",
    "            tpt_new[\"snippet\"] = tpt_new[\"title\"] = \"Empty\"\n",
    "            tpt_new[\"url\"] = tpt[0]\n",
    "            top_pages.append(tpt_new)\n",
    "    \n",
    "    alphas_top_pages.append(top_pages)\n",
    "\n",
    "    print \"\\n\\n-----alpha={}-----\\n\\n\".format(alpha)\n",
    "    for page in top_pages:\n",
    "        print_page_info(page, \"page_rank\")\n",
    "        print\n",
    "    \n",
    "\n",
    "                         \n",
    "                         "
   ]
  },
  {
   "cell_type": "markdown",
   "metadata": {},
   "source": [
    "#### В более сжатом виде (только URL и PageRank):"
   ]
  },
  {
   "cell_type": "code",
   "execution_count": 6,
   "metadata": {},
   "outputs": [
    {
     "name": "stdout",
     "output_type": "stream",
     "text": [
      "\n",
      "\n",
      "-----alpha=0.85-----\n",
      "\n",
      "\n",
      "[(u'https://en.wikipedia.org/wiki/Geographic_coordinate_system',\n",
      "  4.778009922520809e-05),\n",
      " (u'https://en.wikipedia.org/wiki/International_Standard_Book_Number',\n",
      "  4.5815952238721774e-05),\n",
      " (u'https://en.wikipedia.org/wiki/United_States', 2.4746442450869328e-05),\n",
      " (u'https://en.wikipedia.org/wiki/Virtual_International_Authority_File',\n",
      "  2.39657666191829e-05),\n",
      " (u'https://en.wikipedia.org/wiki/Library_of_Congress_Control_Number',\n",
      "  1.9271364360578078e-05),\n",
      " (u'https://en.wikipedia.org/wiki/Wayback_Machine', 1.7539264628181394e-05),\n",
      " (u'https://en.wikipedia.org/wiki/Integrated_Authority_File',\n",
      "  1.6451960522853294e-05),\n",
      " (u'https://en.wikipedia.org/wiki/Digital_object_identifier',\n",
      "  1.6098729839234703e-05),\n",
      " (u'https://en.wikipedia.org/wiki/IMDb', 1.5998731349018203e-05),\n",
      " (u'https://en.wikipedia.org/wiki/International_Standard_Name_Identifier',\n",
      "  1.4836295469592081e-05)]\n",
      "\n",
      "\n",
      "-----alpha=0.95-----\n",
      "\n",
      "\n",
      "[(u'https://en.wikipedia.org/wiki/Geographic_coordinate_system',\n",
      "  5.321966403634596e-05),\n",
      " (u'https://en.wikipedia.org/wiki/International_Standard_Book_Number',\n",
      "  5.102444093380211e-05),\n",
      " (u'https://en.wikipedia.org/wiki/United_States', 2.7476165288555493e-05),\n",
      " (u'https://en.wikipedia.org/wiki/Virtual_International_Authority_File',\n",
      "  2.660364524137661e-05),\n",
      " (u'https://en.wikipedia.org/wiki/Library_of_Congress_Control_Number',\n",
      "  2.1356960364112338e-05),\n",
      " (u'https://en.wikipedia.org/wiki/Wayback_Machine', 1.942108419261014e-05),\n",
      " (u'https://en.wikipedia.org/wiki/Integrated_Authority_File',\n",
      "  1.8205861957243492e-05),\n",
      " (u'https://en.wikipedia.org/wiki/Digital_object_identifier',\n",
      "  1.7811074722610934e-05),\n",
      " (u'https://en.wikipedia.org/wiki/IMDb', 1.769931170413368e-05),\n",
      " (u'https://en.wikipedia.org/wiki/International_Standard_Name_Identifier',\n",
      "  1.640011866242214e-05)]\n",
      "\n",
      "\n",
      "-----alpha=0.5-----\n",
      "\n",
      "\n",
      "[(u'https://en.wikipedia.org/wiki/Geographic_coordinate_system',\n",
      "  2.874162238622576e-05),\n",
      " (u'https://en.wikipedia.org/wiki/International_Standard_Book_Number',\n",
      "  2.758624180593961e-05),\n",
      " (u'https://en.wikipedia.org/wiki/United_States', 1.5192412518967586e-05),\n",
      " (u'https://en.wikipedia.org/wiki/Virtual_International_Authority_File',\n",
      "  1.4733191441504985e-05),\n",
      " (u'https://en.wikipedia.org/wiki/Library_of_Congress_Control_Number',\n",
      "  1.1971778348208e-05),\n",
      " (u'https://en.wikipedia.org/wiki/Wayback_Machine', 1.0952896152680522e-05),\n",
      " (u'https://en.wikipedia.org/wiki/Integrated_Authority_File',\n",
      "  1.031330550248755e-05),\n",
      " (u'https://en.wikipedia.org/wiki/Digital_object_identifier',\n",
      "  1.0105522747417761e-05),\n",
      " (u'https://en.wikipedia.org/wiki/IMDb', 1.0046700106113946e-05),\n",
      " (u'https://en.wikipedia.org/wiki/International_Standard_Name_Identifier',\n",
      "  9.362914294686835e-06)]\n",
      "\n",
      "\n",
      "-----alpha=0.3-----\n",
      "\n",
      "\n",
      "[(u'https://en.wikipedia.org/wiki/Geographic_coordinate_system',\n",
      "  1.7862492763950076e-05),\n",
      " (u'https://en.wikipedia.org/wiki/International_Standard_Book_Number',\n",
      "  1.716926441577829e-05),\n",
      " (u'https://en.wikipedia.org/wiki/United_States', 9.73296684359515e-06),\n",
      " (u'https://en.wikipedia.org/wiki/Virtual_International_Authority_File',\n",
      "  9.4574341971176e-06),\n",
      " (u'https://en.wikipedia.org/wiki/Library_of_Congress_Control_Number',\n",
      "  7.800586341139395e-06),\n",
      " (u'https://en.wikipedia.org/wiki/Wayback_Machine', 7.18925702382291e-06),\n",
      " (u'https://en.wikipedia.org/wiki/Integrated_Authority_File',\n",
      "  6.805502633707123e-06),\n",
      " (u'https://en.wikipedia.org/wiki/Digital_object_identifier',\n",
      "  6.680832980665258e-06),\n",
      " (u'https://en.wikipedia.org/wiki/IMDb', 6.645539395882972e-06),\n",
      " (u'https://en.wikipedia.org/wiki/International_Standard_Name_Identifier',\n",
      "  6.235267909026692e-06)]\n"
     ]
    }
   ],
   "source": [
    "for i, top_pages in enumerate(alphas_top_pages):\n",
    "    print \"\\n\\n-----alpha={}-----\\n\\n\".format(alphas[i])\n",
    "    pprint([(t[\"url\"], t[\"page_rank\"]) for t in top_pages])"
   ]
  },
  {
   "cell_type": "markdown",
   "metadata": {},
   "source": [
    "### Анализ:\n",
    "\n",
    "Исходными ссылками были: \"https://en.wikipedia.org/wiki/Ludwig_van_Beethoven\",\n",
    "        \"https://en.wikipedia.org/wiki/Franz_Schubert\",\n",
    "        \"https://en.wikipedia.org/wiki/Felix_Mendelssohn\",\n",
    "        \"https://en.wikipedia.org/wiki/Franz_Liszt\",\n",
    "        \"https://en.wikipedia.org/wiki/Robert_Schumann\"\n",
    "        \n",
    "В результате в топе оказались страницы со значительно отличающейся тематикой. В целом влияние параметра $\\alpha$ на данном примере не видно. Видим зависимость PageRank от $\\alpha$: чем больше $\\alpha$, тем больше значения PageRank.\n",
    "\n",
    "Отсутствие тайтла, сниппета объясняется, возможно, тем, что spider во время обхода не попал на эти страницы (потому что я остановил обход на 10177 странице)\n"
   ]
  },
  {
   "cell_type": "code",
   "execution_count": 7,
   "metadata": {},
   "outputs": [
    {
     "ename": "PowerIterationFailedConvergence",
     "evalue": "(PowerIterationFailedConvergence(...), 'power iteration failed to converge within 100 iterations')",
     "output_type": "error",
     "traceback": [
      "\u001b[1;31m---------------------------------------------------------------------------\u001b[0m",
      "\u001b[1;31mPowerIterationFailedConvergence\u001b[0m           Traceback (most recent call last)",
      "\u001b[1;32m<ipython-input-7-d0f8d6136def>\u001b[0m in \u001b[0;36m<module>\u001b[1;34m()\u001b[0m\n\u001b[1;32m----> 1\u001b[1;33m \u001b[0mauth_hits\u001b[0m\u001b[1;33m,\u001b[0m \u001b[0mhub_hits\u001b[0m \u001b[1;33m=\u001b[0m \u001b[0mnx\u001b[0m\u001b[1;33m.\u001b[0m\u001b[0mhits\u001b[0m\u001b[1;33m(\u001b[0m\u001b[0mgraph\u001b[0m\u001b[1;33m)\u001b[0m\u001b[1;33m\u001b[0m\u001b[0m\n\u001b[0m",
      "\u001b[1;32mC:\\Users\\N56\\Anaconda3\\envs\\py27\\lib\\site-packages\\networkx\\algorithms\\link_analysis\\hits_alg.pyc\u001b[0m in \u001b[0;36mhits\u001b[1;34m(G, max_iter, tol, nstart, normalized)\u001b[0m\n\u001b[0;32m    116\u001b[0m             \u001b[1;32mbreak\u001b[0m\u001b[1;33m\u001b[0m\u001b[0m\n\u001b[0;32m    117\u001b[0m     \u001b[1;32melse\u001b[0m\u001b[1;33m:\u001b[0m\u001b[1;33m\u001b[0m\u001b[0m\n\u001b[1;32m--> 118\u001b[1;33m         \u001b[1;32mraise\u001b[0m \u001b[0mnx\u001b[0m\u001b[1;33m.\u001b[0m\u001b[0mPowerIterationFailedConvergence\u001b[0m\u001b[1;33m(\u001b[0m\u001b[0mmax_iter\u001b[0m\u001b[1;33m)\u001b[0m\u001b[1;33m\u001b[0m\u001b[0m\n\u001b[0m\u001b[0;32m    119\u001b[0m     \u001b[1;32mif\u001b[0m \u001b[0mnormalized\u001b[0m\u001b[1;33m:\u001b[0m\u001b[1;33m\u001b[0m\u001b[0m\n\u001b[0;32m    120\u001b[0m         \u001b[0ms\u001b[0m \u001b[1;33m=\u001b[0m \u001b[1;36m1.0\u001b[0m \u001b[1;33m/\u001b[0m \u001b[0msum\u001b[0m\u001b[1;33m(\u001b[0m\u001b[0ma\u001b[0m\u001b[1;33m.\u001b[0m\u001b[0mvalues\u001b[0m\u001b[1;33m(\u001b[0m\u001b[1;33m)\u001b[0m\u001b[1;33m)\u001b[0m\u001b[1;33m\u001b[0m\u001b[0m\n",
      "\u001b[1;31mPowerIterationFailedConvergence\u001b[0m: (PowerIterationFailedConvergence(...), 'power iteration failed to converge within 100 iterations')"
     ]
    }
   ],
   "source": [
    "auth_hits, hub_hits = nx.hits(graph)"
   ]
  },
  {
   "cell_type": "code",
   "execution_count": null,
   "metadata": {
    "collapsed": true
   },
   "outputs": [],
   "source": [
    "avg_hits = dict()\n",
    "for auth in auth_hits:\n",
    "    url = auth[0]\n",
    "    auth_value = auth[1]\n",
    "    hub_value = hub_hits[url][1]\n",
    "    avg_hits[url] = (auth_value + hub_value) / 2\n",
    "    \n",
    "top_pages_auth_hits = sorted(auth_hits.items(), key=operator.itemgetter(1), reverse=True)[:TOP_PAGES_COUNT]\n",
    "top_pages_hubs_hits = sorted(hub_hits.items(), key=operator.itemgetter(1), reverse=True)[:TOP_PAGES_COUNT]\n",
    "top_pages_avg_hits = sorted(avg_hits.items(), key=operator.itemgetter(1), reverse=True)[:TOP_PAGES_COUNT]\n",
    "\n",
    "print \"\\n\\n-----auth-----\\n\\n\"\n",
    "pprint(top_pages_auth_hits)\n",
    "\n",
    "print \"\\n\\n-----hub-----\\n\\n\"\n",
    "pprint(top_pages_hubs_hits)\n",
    "\n",
    "print \"\\n\\n-----avg-----\\n\\n\"\n",
    "pprint(top_pages_avg_hits)\n"
   ]
  },
  {
   "cell_type": "markdown",
   "metadata": {},
   "source": [
    "### Анализ:\n",
    "\n",
    "К сожалению, алгоритм не сошелся на таком количестве итераций."
   ]
  },
  {
   "cell_type": "code",
   "execution_count": null,
   "metadata": {
    "collapsed": true
   },
   "outputs": [],
   "source": []
  }
 ],
 "metadata": {
  "kernelspec": {
   "display_name": "Python 2",
   "language": "python",
   "name": "python2"
  },
  "language_info": {
   "codemirror_mode": {
    "name": "ipython",
    "version": 2
   },
   "file_extension": ".py",
   "mimetype": "text/x-python",
   "name": "python",
   "nbconvert_exporter": "python",
   "pygments_lexer": "ipython2",
   "version": "2.7.13"
  }
 },
 "nbformat": 4,
 "nbformat_minor": 1
}
