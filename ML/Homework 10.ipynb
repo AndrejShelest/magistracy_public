{
 "cells": [
  {
   "cell_type": "markdown",
   "metadata": {},
   "source": [
    "Задание 1.\n",
    "\n",
    "Ниже расположена реализация аглоритма k-NN для датасета ирисов Фишера. Как и в первой лабораторной, где использовались ирисы, вся выборка была разделена на обучающую и тестовую в соотношении 9:1. На тестовой выборке была проведена кроссвалидация (запущен k-fold с $k=10$) и найдено наилучшее k, а также построен график успешных предсказаний (1 минус средняя ошибка) на кроссвалидации в зависимости от k. Затем при наилучшем k протестировали k-NN на тестовой выборке, в качестве соседей рассматриваем элементы из обучающей выборки.\n",
    "\n",
    "Задание 2.\n",
    "\n",
    "Под проклятием размерности понимают ситуацию, когда с ростом размерности пространства экспоненциально растет число требуемых элементов пространства для удовлетворения некоторому условию. К примеру, для получения хороших оценок на true risk в k-NN с ростом размерности $d$ необходим экспоненциальный рост размера выборки $m$. Еще пример: нам надо $100$ точек, чтобы покрыть отрезок $[0,\\,1]$ с интервалом $0.01$, и $10^{20}$ точек для $10$-мерного куба со стороной $[0,\\,1]$. Бороться с проклятьем можно, уменьшив размерность пространства, например, удалив слабо влияющие на результат классификации признаки."
   ]
  },
  {
   "cell_type": "code",
   "execution_count": 1,
   "metadata": {
    "collapsed": false
   },
   "outputs": [],
   "source": [
    "import math\n",
    "import numpy as np\n",
    "from numpy import linalg as LA\n",
    "import random\n",
    "import matplotlib.pyplot as plt"
   ]
  },
  {
   "cell_type": "code",
   "execution_count": 2,
   "metadata": {
    "collapsed": false
   },
   "outputs": [],
   "source": [
    "def read_data_from_file(filename):\n",
    "    samples = []\n",
    "    classes = set()\n",
    "    with open(filename) as f:\n",
    "        for line in f:\n",
    "            line_splitted = line.strip().split(\",\")\n",
    "            samples.append(([float(x) for x in line_splitted[:-1]], get_class(line_splitted[-1])))\n",
    "            classes.add(get_class(line_splitted[-1]))\n",
    "    return samples, classes\n",
    "\n",
    "def get_class(class_name):\n",
    "    if class_name == \"Iris-setosa\":\n",
    "        return 1\n",
    "    if class_name == \"Iris-versicolor\":\n",
    "        return 2\n",
    "    if class_name == \"Iris-virginica\":\n",
    "        return 3\n",
    "    return 4"
   ]
  },
  {
   "cell_type": "code",
   "execution_count": 3,
   "metadata": {
    "collapsed": false
   },
   "outputs": [],
   "source": [
    "def predict(samples, to_predict, to_predict_classes, k_knn):\n",
    "    supposed_classes = [knn(samples, test, k_knn) for test in to_predict]\n",
    "    actual_classes = to_predict_classes\n",
    "    \n",
    "    loss = 0\n",
    "    for cl in zip(supposed_classes, actual_classes):\n",
    "        if cl[0] != cl[1]:\n",
    "            loss += 1\n",
    "            \n",
    "    return float(loss) / len(actual_classes)"
   ]
  },
  {
   "cell_type": "code",
   "execution_count": 4,
   "metadata": {
    "collapsed": true
   },
   "outputs": [],
   "source": [
    "def knn(samples, test, k):\n",
    "    distances = sorted([(LA.norm(np.subtract(x[:-1], test)), x[-1]) for x in samples], key=lambda d: d[0])[:k]\n",
    "    return np.argmax(np.bincount([d[1] for d in distances]))    "
   ]
  },
  {
   "cell_type": "code",
   "execution_count": 5,
   "metadata": {
    "collapsed": true
   },
   "outputs": [],
   "source": [
    "def k_fold(samples, k, knn_range):\n",
    "    block_size = int(math.floor(float(len(samples)) / k))\n",
    "    \n",
    "    all_loss_history = []\n",
    "\n",
    "    iters_passed = 0\n",
    "    \n",
    "    for k_knn in knn_range:          \n",
    "                \n",
    "        loss_history = []\n",
    "\n",
    "        for ind in xrange(0, len(samples), block_size):\n",
    "            fold_test = samples[ind:min(ind+block_size, len(samples))]\n",
    "            fold_train = [x for x in samples if x not in fold_test]            \n",
    "\n",
    "            \n",
    "            supposed_classes = [knn(fold_train, test[:-1], k_knn) for test in fold_test]\n",
    "            actual_classes = [test[-1] for test in fold_test]\n",
    "            \n",
    "#             print \"fold_train {}, fold_test {}\".format(fold_train, fold_test)\n",
    "#             print \"supp_classes {}, act_classes {}\".format(supposed_classes, actual_classes)\n",
    "\n",
    "            \n",
    "            loss = 0\n",
    "            for cl in zip(supposed_classes, actual_classes):\n",
    "                if cl[0] != cl[1]:\n",
    "                    loss += 1\n",
    "            \n",
    "            loss_history.append(float(loss) / len(fold_test))\n",
    "\n",
    "        avg_loss = np.average(loss_history)\n",
    "        all_loss_history.append([k_knn, avg_loss])\n",
    "\n",
    "        print \"k={}, predicted={}\".format(k_knn, 1 - avg_loss)\n",
    "        \n",
    "    losses = np.array(all_loss_history)[:, -1]\n",
    "    \n",
    "    plt.title(\"Success rate on cross-validation\")\n",
    "    plt.xlabel(\"k\")\n",
    "    plt.ylabel(\"success rate\")\n",
    "    axes = plt.gca()\n",
    "    axes.set_ylim([0,1])\n",
    "    plt.plot(list(knn_range), [1 - x for x in losses])\n",
    "    plt.show()\n",
    "\n",
    "    params = all_loss_history[np.argmin(losses)][:-1]\n",
    "    return params[0]\n",
    "    "
   ]
  },
  {
   "cell_type": "code",
   "execution_count": 6,
   "metadata": {
    "collapsed": false
   },
   "outputs": [
    {
     "name": "stdout",
     "output_type": "stream",
     "text": [
      "k-fold: \n",
      "k=1, predicted=0.965034965035\n",
      "k=2, predicted=0.958041958042\n",
      "k=3, predicted=0.972027972028\n",
      "k=4, predicted=0.965034965035\n",
      "k=5, predicted=0.965034965035\n",
      "k=6, predicted=0.972027972028\n",
      "k=7, predicted=0.979020979021\n",
      "k=8, predicted=0.972027972028\n",
      "k=9, predicted=0.979020979021\n",
      "k=10, predicted=0.979020979021\n",
      "k=11, predicted=0.979020979021\n",
      "k=12, predicted=0.979020979021\n",
      "k=13, predicted=0.972027972028\n",
      "k=14, predicted=0.965034965035\n",
      "k=15, predicted=0.972027972028\n",
      "k=16, predicted=0.972027972028\n",
      "k=17, predicted=0.965034965035\n",
      "k=18, predicted=0.965034965035\n",
      "k=19, predicted=0.972027972028\n",
      "k=20, predicted=0.965034965035\n",
      "k=21, predicted=0.965034965035\n",
      "k=22, predicted=0.965034965035\n",
      "k=23, predicted=0.965034965035\n",
      "k=24, predicted=0.965034965035\n",
      "k=25, predicted=0.965034965035\n",
      "k=26, predicted=0.951048951049\n",
      "k=27, predicted=0.951048951049\n",
      "k=28, predicted=0.951048951049\n",
      "k=29, predicted=0.951048951049\n",
      "k=30, predicted=0.951048951049\n",
      "k=31, predicted=0.958041958042\n",
      "k=32, predicted=0.958041958042\n",
      "k=33, predicted=0.958041958042\n",
      "k=34, predicted=0.958041958042\n",
      "k=35, predicted=0.951048951049\n",
      "k=36, predicted=0.951048951049\n",
      "k=37, predicted=0.951048951049\n",
      "k=38, predicted=0.944055944056\n",
      "k=39, predicted=0.951048951049\n",
      "k=40, predicted=0.944055944056\n",
      "k=41, predicted=0.937062937063\n",
      "k=42, predicted=0.93006993007\n",
      "k=43, predicted=0.923076923077\n",
      "k=44, predicted=0.93006993007\n",
      "k=45, predicted=0.937062937063\n",
      "k=46, predicted=0.923076923077\n",
      "k=47, predicted=0.909090909091\n",
      "k=48, predicted=0.923076923077\n",
      "k=49, predicted=0.923076923077\n",
      "k=50, predicted=0.923076923077\n",
      "k=51, predicted=0.923076923077\n",
      "k=52, predicted=0.923076923077\n",
      "k=53, predicted=0.916083916084\n",
      "k=54, predicted=0.923076923077\n",
      "k=55, predicted=0.909090909091\n",
      "k=56, predicted=0.909090909091\n",
      "k=57, predicted=0.909090909091\n",
      "k=58, predicted=0.902097902098\n",
      "k=59, predicted=0.916083916084\n",
      "k=60, predicted=0.902097902098\n",
      "k=61, predicted=0.916083916084\n",
      "k=62, predicted=0.895104895105\n",
      "k=63, predicted=0.916083916084\n",
      "k=64, predicted=0.895104895105\n",
      "k=65, predicted=0.909090909091\n",
      "k=66, predicted=0.895104895105\n",
      "k=67, predicted=0.902097902098\n",
      "k=68, predicted=0.895104895105\n",
      "k=69, predicted=0.874125874126\n",
      "k=70, predicted=0.853146853147\n",
      "k=71, predicted=0.832167832168\n",
      "k=72, predicted=0.825174825175\n",
      "k=73, predicted=0.811188811189\n",
      "k=74, predicted=0.811188811189\n",
      "k=75, predicted=0.783216783217\n",
      "k=76, predicted=0.783216783217\n",
      "k=77, predicted=0.783216783217\n",
      "k=78, predicted=0.769230769231\n",
      "k=79, predicted=0.755244755245\n",
      "k=80, predicted=0.741258741259\n",
      "k=81, predicted=0.748251748252\n",
      "k=82, predicted=0.748251748252\n",
      "k=83, predicted=0.762237762238\n",
      "k=84, predicted=0.755244755245\n",
      "k=85, predicted=0.748251748252\n",
      "k=86, predicted=0.741258741259\n",
      "k=87, predicted=0.741258741259\n",
      "k=88, predicted=0.734265734266\n",
      "k=89, predicted=0.734265734266\n",
      "k=90, predicted=0.727272727273\n",
      "k=91, predicted=0.706293706294\n",
      "k=92, predicted=0.706293706294\n",
      "k=93, predicted=0.706293706294\n",
      "k=94, predicted=0.699300699301\n",
      "k=95, predicted=0.699300699301\n",
      "k=96, predicted=0.699300699301\n",
      "k=97, predicted=0.662937062937\n",
      "k=98, predicted=0.662937062937\n",
      "k=99, predicted=0.662937062937\n",
      "k=100, predicted=0.662937062937\n"
     ]
    },
    {
     "data": {
      "image/png": "[encoded data removed]",
      "text/plain": [
       "<matplotlib.figure.Figure at 0x7508ac8>"
      ]
     },
     "metadata": {},
     "output_type": "display_data"
    },
    {
     "name": "stdout",
     "output_type": "stream",
     "text": [
      "best_k: 7, predicted: 0.933333333333\n",
      "FINISHED\n"
     ]
    }
   ],
   "source": [
    "KNN_RANGE = np.arange(1, 101, 1)\n",
    "K = 10\n",
    "\n",
    "\n",
    "data, classes = read_data_from_file(\"iris.data\")\n",
    "\n",
    "np.random.shuffle(data)\n",
    "train_length = int(math.floor(len(data) * 0.9))\n",
    "train_data = data[:train_length]\n",
    "test_data = data[train_length:]\n",
    "\n",
    "print \"k-fold: \"\n",
    "best_k = k_fold(train_data, K, KNN_RANGE)\n",
    "\n",
    "X_test = [x[0] for x in test_data]\n",
    "Y_test = [x[1] for x in test_data]\n",
    "loss = predict(train_data, X_test, Y_test, best_k)\n",
    "\n",
    "print \"best_k: {}, predicted: {}\".format(best_k, 1 - loss)\n",
    "print \"FINISHED\"\n",
    "\n"
   ]
  }
 ],
 "metadata": {
  "anaconda-cloud": {},
  "kernelspec": {
   "display_name": "Python [conda env:py27]",
   "language": "python",
   "name": "conda-env-py27-py"
  },
  "language_info": {
   "codemirror_mode": {
    "name": "ipython",
    "version": 2
   },
   "file_extension": ".py",
   "mimetype": "text/x-python",
   "name": "python",
   "nbconvert_exporter": "python",
   "pygments_lexer": "ipython2",
   "version": "2.7.13"
  }
 },
 "nbformat": 4,
 "nbformat_minor": 1
}
