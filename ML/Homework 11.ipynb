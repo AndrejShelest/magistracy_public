{
 "cells": [
  {
   "cell_type": "markdown",
   "metadata": {},
   "source": [
    "Запускался SVM с полиномиальным ядром степени 2 и $C=1$ с применением метода главных компонент для входных данных. Получил точность 98.01%."
   ]
  },
  {
   "cell_type": "code",
   "execution_count": 1,
   "metadata": {
    "collapsed": true
   },
   "outputs": [],
   "source": [
    "from __future__ import print_function\n",
    "\n",
    "import sys\n",
    "\n",
    "import matplotlib\n",
    "matplotlib.use('Agg')\n",
    "%matplotlib inline\n",
    "import matplotlib.pyplot as plt\n",
    "\n",
    "import numpy as np\n",
    "import sklearn\n",
    "\n",
    "\n",
    "import random"
   ]
  },
  {
   "cell_type": "code",
   "execution_count": 2,
   "metadata": {
    "collapsed": true
   },
   "outputs": [],
   "source": [
    "import sklearn.datasets"
   ]
  },
  {
   "cell_type": "code",
   "execution_count": 3,
   "metadata": {
    "collapsed": true
   },
   "outputs": [],
   "source": [
    "from sklearn.datasets.mldata import fetch_mldata\n",
    "mnist = fetch_mldata('mnist-original', data_home='./mnist-original')"
   ]
  },
  {
   "cell_type": "code",
   "execution_count": 4,
   "metadata": {
    "collapsed": true
   },
   "outputs": [],
   "source": [
    "X, Y = mnist['data'], np.array(mnist['target'], dtype='int')\n"
   ]
  },
  {
   "cell_type": "code",
   "execution_count": 5,
   "metadata": {
    "collapsed": true
   },
   "outputs": [],
   "source": [
    "import sklearn.decomposition\n",
    "\n",
    "pca = sklearn.decomposition.PCA(n_components=45, whiten=True)\n",
    "pca.fit(X)\n",
    "X = pca.transform(X)\n"
   ]
  },
  {
   "cell_type": "code",
   "execution_count": 6,
   "metadata": {
    "collapsed": true
   },
   "outputs": [],
   "source": [
    "ntrain_dev = 60000\n",
    "X_train_dev, Y_train_dev = X[:ntrain_dev], Y[:ntrain_dev]\n",
    "X_test, Y_test = X[ntrain_dev:], Y[ntrain_dev:]"
   ]
  },
  {
   "cell_type": "code",
   "execution_count": 7,
   "metadata": {
    "collapsed": true
   },
   "outputs": [],
   "source": [
    "permutation = np.random.permutation(ntrain_dev)\n",
    "ntrain = ntrain_dev * 90 / 100\n",
    "X_train, Y_train = X_train_dev[permutation][:ntrain], Y_train_dev[permutation][:ntrain]\n",
    "X_dev, Y_dev = X_train_dev[permutation][ntrain:], Y_train_dev[permutation][ntrain:]"
   ]
  },
  {
   "cell_type": "code",
   "execution_count": 8,
   "metadata": {
    "collapsed": true
   },
   "outputs": [],
   "source": [
    "def filter_by_digits(x, y, digits, limit=None):\n",
    "    indices = [i for i in xrange(len(x)) if y[i] in digits]\n",
    "    limit = limit or len(indices)\n",
    "    return x[indices][:limit], y[indices][:limit]\n",
    "\n",
    "cool_digits = [0, 1, 2, 3, 4, 5]\n",
    "x_train, y_train = filter_by_digits(X_train, Y_train, cool_digits, 3000)\n",
    "x_dev, y_dev = filter_by_digits(X_dev, Y_dev, cool_digits, 100)\n",
    "x_test, y_test = filter_by_digits(X_test, Y_test, cool_digits, 100)"
   ]
  },
  {
   "cell_type": "code",
   "execution_count": 9,
   "metadata": {
    "collapsed": false
   },
   "outputs": [
    {
     "data": {
      "image/png": "[encoded data removed]",
      "text/plain": [
       "<matplotlib.figure.Figure at 0x9dc7d30>"
      ]
     },
     "metadata": {},
     "output_type": "display_data"
    }
   ],
   "source": [
    "plt.hist(Y_train)\n",
    "plt.title('y_train distribution')\n",
    "plt.show()"
   ]
  },
  {
   "cell_type": "code",
   "execution_count": 10,
   "metadata": {
    "collapsed": false
   },
   "outputs": [
    {
     "data": {
      "image/png": "[encoded data removed]",
      "text/plain": [
       "<matplotlib.figure.Figure at 0x9dc75f8>"
      ]
     },
     "metadata": {},
     "output_type": "display_data"
    }
   ],
   "source": [
    "plt.hist(Y_dev)\n",
    "plt.title('y_dev distribution')\n",
    "plt.show()"
   ]
  },
  {
   "cell_type": "code",
   "execution_count": 11,
   "metadata": {
    "collapsed": true
   },
   "outputs": [],
   "source": [
    "import sklearn.svm"
   ]
  },
  {
   "cell_type": "code",
   "execution_count": 12,
   "metadata": {
    "collapsed": false
   },
   "outputs": [
    {
     "name": "stdout",
     "output_type": "stream",
     "text": [
      "SVC score on subtrain: 0.989944444444\n",
      "SVC score on validation: 0.981166666667\n",
      "SVC score on test: 0.9801\n"
     ]
    }
   ],
   "source": [
    "estimator = sklearn.svm.SVC(kernel='poly', C=1, degree=2)\n",
    "estimator.fit(X_train, Y_train)\n",
    "print('SVC score on subtrain:', estimator.score(X_train, Y_train))\n",
    "print('SVC score on validation:', estimator.score(X_dev, Y_dev))\n",
    "print('SVC score on test:', estimator.score(X_test, Y_test))"
   ]
  }
 ],
 "metadata": {
  "anaconda-cloud": {},
  "kernelspec": {
   "display_name": "Python [conda env:py27]",
   "language": "python",
   "name": "conda-env-py27-py"
  },
  "language_info": {
   "codemirror_mode": {
    "name": "ipython",
    "version": 2
   },
   "file_extension": ".py",
   "mimetype": "text/x-python",
   "name": "python",
   "nbconvert_exporter": "python",
   "pygments_lexer": "ipython2",
   "version": "2.7.13"
  }
 },
 "nbformat": 4,
 "nbformat_minor": 1
}
